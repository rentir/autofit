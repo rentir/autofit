{
 "cells": [
  {
   "cell_type": "code",
   "execution_count": 1,
   "metadata": {},
   "outputs": [
    {
     "name": "stderr",
     "output_type": "stream",
     "text": [
      "2019-06-28 13:55:35,461 - autofit.utils - INFO - importing /home/renzo/python/autofit/slots/__init__.pyc from autofit.slots\n",
      "2019-06-28 13:55:35,462 - autofit.utils - DEBUG - importing module parameters\n",
      "2019-06-28 13:55:35,462 - autofit.network - DEBUG - linking slot 'dividends'\n",
      "2019-06-28 13:55:35,462 - autofit.network - DEBUG - linking slot 'product_rate'\n",
      "2019-06-28 13:55:35,462 - autofit.network - DEBUG - linking slot 'volatility'\n",
      "2019-06-28 13:55:35,462 - autofit.network - DEBUG - linking slot 'varswapvolbasis'\n",
      "2019-06-28 13:55:35,464 - autofit.utils - DEBUG - importing module report\n",
      "2019-06-28 13:55:35,465 - autofit.network - DEBUG - linking slot 'implied_fwd'\n",
      "2019-06-28 13:55:35,465 - autofit.network - DEBUG - linking slot 'implied_vol'\n",
      "2019-06-28 13:55:35,465 - autofit.utils - DEBUG - importing module market_data\n",
      "2019-06-28 13:55:35,465 - autofit.network - DEBUG - linking slot 'european_totem'\n",
      "2019-06-28 13:55:35,466 - autofit.network - DEBUG - linking slot 'varswap_totem'\n",
      "2019-06-28 13:55:35,466 - autofit.network - DEBUG - linking slot 'volswap_totem'\n",
      "2019-06-28 13:55:35,466 - autofit.network - DEBUG - linking slot 'trs_totem'\n",
      "2019-06-28 13:55:35,467 - autofit.utils - INFO - importing /home/renzo/python/autofit/producers/__init__.pyc from autofit.producers\n",
      "2019-06-28 13:55:35,467 - autofit.utils - DEBUG - importing module parameters\n",
      "2019-06-28 13:55:35,467 - autofit.network - DEBUG - linking producer 'synthetic_fwd_fitter'\n",
      "2019-06-28 13:55:35,467 - autofit.network - DEBUG - linking producer 'trs_fitter'\n",
      "2019-06-28 13:55:35,467 - autofit.network - DEBUG - linking producer 'trs_fwd_fitter'\n",
      "2019-06-28 13:55:35,467 - autofit.network - DEBUG - linking producer 'varswap_fitter'\n",
      "2019-06-28 13:55:35,468 - autofit.utils - DEBUG - importing module report\n",
      "2019-06-28 13:55:35,468 - autofit.network - DEBUG - linking producer 'black_scholes_calculator'\n",
      "2019-06-28 13:55:35,468 - autofit.utils - DEBUG - importing module market_data\n",
      "2019-06-28 13:55:35,468 - autofit.network - DEBUG - linking producer 'totem_daily'\n",
      "2019-06-28 13:55:35,468 - autofit - INFO - Network was successfully linked\n"
     ]
    }
   ],
   "source": [
    "import os\n",
    "import sys\n",
    "import datetime as dt\n",
    "import requests\n",
    "import autofit.models as m\n",
    "from config import configuration\n",
    "import autofit.utils"
   ]
  },
  {
   "cell_type": "code",
   "execution_count": 2,
   "metadata": {},
   "outputs": [],
   "source": [
    "os.remove(os.path.join('db', 'mrb.db'))\n",
    "m.create_all(configuration['production'])"
   ]
  },
  {
   "cell_type": "code",
   "execution_count": 3,
   "metadata": {},
   "outputs": [],
   "source": [
    "session = m.get_session()\n",
    "s1 = m.Slot(name='european.totem', keys='k1|k2', date=dt.datetime(2019, 6, 9).date(),\n",
    "           priority=1, path='.', state=m.SlotStatesEnum.current)\n",
    "p1 = m.Producer(state=m.ProducerStatesEnum.completed)"
   ]
  },
  {
   "cell_type": "code",
   "execution_count": 4,
   "metadata": {},
   "outputs": [],
   "source": [
    "s1.listeners.append(p1)"
   ]
  },
  {
   "cell_type": "code",
   "execution_count": 5,
   "metadata": {},
   "outputs": [],
   "source": [
    "s2 = m.Slot(name='implied_volatilty', keys='k1|k2', date=dt.datetime(2019, 6, 9).date(),\n",
    "           priority=1, path='.', state=m.SlotStatesEnum.current)"
   ]
  },
  {
   "cell_type": "code",
   "execution_count": 11,
   "metadata": {},
   "outputs": [],
   "source": [
    "p1.outputs.append(s2)"
   ]
  },
  {
   "cell_type": "code",
   "execution_count": 12,
   "metadata": {},
   "outputs": [],
   "source": [
    "s1n = m.Slot(name='european.totem', keys='k1|k2', date=dt.datetime(2019, 6, 9).date(),\n",
    "           priority=2, path='.', state=m.SlotStatesEnum.void)"
   ]
  },
  {
   "cell_type": "code",
   "execution_count": 13,
   "metadata": {},
   "outputs": [],
   "source": [
    "session.add(s1)\n",
    "session.add(p1)\n",
    "# session.add(s2)"
   ]
  },
  {
   "cell_type": "code",
   "execution_count": 14,
   "metadata": {},
   "outputs": [],
   "source": [
    "session.commit()"
   ]
  },
  {
   "cell_type": "code",
   "execution_count": 15,
   "metadata": {},
   "outputs": [
    {
     "name": "stderr",
     "output_type": "stream",
     "text": [
      "2019-06-13 00:13:37,754 - autofit.models - DEBUG - inserting slot <Slot(sid=None, name='european.totem', keys='k1|k2', priority=2, state='void', path='.', listeners='[]')>\n",
      "2019-06-13 00:13:37,766 - autofit.models - DEBUG - found existing current slot <Slot(sid=1, name='european.totem', keys='k1|k2', priority=1, state='current', path='.', listeners='[<Producer(pid=1, state='completed', updated_at='2019-06-12 23:13:37.436448', outputs='[<Slot(sid=2, name='implied_volatilty', keys='k1|k2', priority=1, state='current', path='.', listeners='[]')>]')>]')>\n",
      "2019-06-13 00:13:37,768 - autofit.models - DEBUG - new slot has higher priority\n",
      "2019-06-13 00:13:37,770 - autofit.models - DEBUG - invalidating <Slot(sid=1, name='european.totem', keys='k1|k2', priority=1, state='current', path='.', listeners='[<Producer(pid=1, state='completed', updated_at='2019-06-12 23:13:37.436448', outputs='[<Slot(sid=2, name='implied_volatilty', keys='k1|k2', priority=1, state='current', path='.', listeners='[]')>]')>]')>\n",
      "2019-06-13 00:13:37,773 - autofit.models - DEBUG - invalidating <Slot(sid=2, name='implied_volatilty', keys='k1|k2', priority=1, state='current', path='.', listeners='[]')>\n",
      "2019-06-13 00:13:37,776 - autofit.models - INFO - slot <Slot(sid=2, name='implied_volatilty', keys='k1|k2', priority=1, state='current', path='.', listeners='[]')> is invalid\n",
      "2019-06-13 00:13:37,777 - autofit.models - DEBUG - dangling product <Producer(pid=1, state='completed', updated_at='2019-06-12 23:13:37.436448', outputs='[<Slot(sid=2, name='implied_volatilty', keys='k1|k2', priority=1, state='stale', path='.', listeners='[]')>]')> being removed\n",
      "2019-06-13 00:13:37,779 - autofit.models - INFO - slot <Slot(sid=1, name='european.totem', keys='k1|k2', priority=1, state='current', path='.', listeners='[<Producer(pid=1, state='completed', updated_at='2019-06-12 23:13:37.436448', outputs='[<Slot(sid=2, name='implied_volatilty', keys='k1|k2', priority=1, state='stale', path='.', listeners='[]')>]')>]')> is invalid\n",
      "2019-06-13 00:13:37,789 - autofit.proxy - DEBUG - broadcasting to 'black_scholes_calculator'\n",
      "2019-06-13 00:13:37,800 - autofit.proxy - DEBUG - acknowledge received from 'black_scholes_calculator' with result 'True'\n",
      "2019-06-13 00:13:37,801 - autofit.proxy - DEBUG - pending 0 acknowledgments\n",
      "2019-06-13 00:13:37,807 - autofit.models - INFO - slot <Slot(sid=3, name='european.totem', keys='k1|k2', priority=2, state='void', path='.', listeners='[]')> is pending\n",
      "2019-06-13 00:13:37,809 - autofit.proxy - DEBUG - all good so far...\n",
      "2019-06-13 00:13:37,810 - autofit.models - INFO - slot <Slot(sid=3, name='european.totem', keys='k1|k2', priority=2, state='pending', path='.', listeners='[]')> is pending\n"
     ]
    },
    {
     "data": {
      "text/plain": [
       "True"
      ]
     },
     "execution_count": 15,
     "metadata": {},
     "output_type": "execute_result"
    }
   ],
   "source": [
    "m.insert_slot(s1n)"
   ]
  },
  {
   "cell_type": "code",
   "execution_count": 16,
   "metadata": {},
   "outputs": [
    {
     "data": {
      "text/plain": [
       "[]"
      ]
     },
     "execution_count": 16,
     "metadata": {},
     "output_type": "execute_result"
    }
   ],
   "source": [
    "session.query(m.Producer).all()"
   ]
  },
  {
   "cell_type": "code",
   "execution_count": 17,
   "metadata": {},
   "outputs": [
    {
     "data": {
      "text/plain": [
       "[<Slot(sid=1, name='european.totem', keys='k1|k2', priority=1, state='stale', path='.', listeners='[]')>,\n",
       " <Slot(sid=2, name='implied_volatilty', keys='k1|k2', priority=1, state='stale', path='.', listeners='[]')>,\n",
       " <Slot(sid=3, name='european.totem', keys='k1|k2', priority=2, state='pending', path='.', listeners='[]')>]"
      ]
     },
     "execution_count": 17,
     "metadata": {},
     "output_type": "execute_result"
    }
   ],
   "source": [
    "session.query(m.Slot).all()"
   ]
  },
  {
   "cell_type": "code",
   "execution_count": null,
   "metadata": {},
   "outputs": [],
   "source": [
    "q = session.query(m.Slot).filter_by(name=s1n.name, keys=s1n.keys, date=s1n.date)"
   ]
  },
  {
   "cell_type": "code",
   "execution_count": null,
   "metadata": {},
   "outputs": [],
   "source": [
    "s = q.one()\n",
    "s"
   ]
  },
  {
   "cell_type": "code",
   "execution_count": null,
   "metadata": {},
   "outputs": [],
   "source": [
    "s.broadcasting.set()"
   ]
  },
  {
   "cell_type": "code",
   "execution_count": null,
   "metadata": {},
   "outputs": [],
   "source": [
    "s.state"
   ]
  },
  {
   "cell_type": "code",
   "execution_count": null,
   "metadata": {},
   "outputs": [],
   "source": [
    "s.broadcast()"
   ]
  },
  {
   "cell_type": "code",
   "execution_count": null,
   "metadata": {},
   "outputs": [],
   "source": [
    "s = m.Slot(name='european.totem', keys='k1|k2', date=dt.datetime(2019, 6, 9).date(),\n",
    "           priority=1, path='.', state='broadcasting')\n",
    "session.add(s)"
   ]
  },
  {
   "cell_type": "code",
   "execution_count": 20,
   "metadata": {},
   "outputs": [
    {
     "name": "stdout",
     "output_type": "stream",
     "text": [
      "Help on built-in function load_module in module imp:\n",
      "\n",
      "load_module(...)\n",
      "    load_module(name, file, filename, (suffix, mode, type)) -> module\n",
      "    Load a module, given information returned by find_module().\n",
      "    The module name must include the full package name, if any.\n",
      "\n"
     ]
    }
   ],
   "source": [
    "import inspect\n",
    "inspect.getmodulename(\"./producers/market_data.py\")\n",
    "from importlib import import_module\n",
    "from imp import load_module\n",
    "help(load_module)\n"
   ]
  },
  {
   "cell_type": "code",
   "execution_count": null,
   "metadata": {},
   "outputs": [],
   "source": [
    "# # Create underlyings\n",
    "# u1 = models.Underlying(uname='1', currency='EUR', ric='.STOXX50E', region='euro', class_='equity', type_='Equity Index')\n",
    "# u2 = models.Underlying(uname='2', currency='USD', ric='.SPX', region='us', class_='equity', type_='Equity Index')\n",
    "# u3 = models.Underlying(uname='3', currency='JPY', ric='.N225', region='apac', class_='equity', type_='Equity Index')\n",
    "# session.add_all([u1, u2, u3])\n",
    "# session.commit()\n",
    "# print \"*** Underlying ***\"\n",
    "# print '\\n'.join([str(u) for u in session.query(models.Underlying).all()])\n",
    "# # Create slots\n",
    "# s1 = models.SlotClass(name='totem.vanilla.prices', key='ric')\n",
    "# s2 = models.SlotClass(name='totem.vanilla.forward', key='ric')\n",
    "# s3 = models.SlotClass(name='totem.vanilla.impliedvol', key='ric')\n",
    "# s4 = models.SlotClass(name='totem.vanilla.dividends', key='ric')\n",
    "# s5 = models.SlotClass(name='totem.vanilla.product_rate', key='ric')\n",
    "# s6 = models.SlotClass(name='totem.varswap.price', key='ric')\n",
    "# s7 = models.SlotClass(name='totem.varswap.varswapvolbasis', key='ric')\n",
    "# s8 = models.SlotClass(name='totem.proxy.varswapvolbasis', key='type_|region')\n",
    "# session.add_all([s1, s2, s3, s4, s5, s6, s7, s8])\n",
    "# session.commit()\n",
    "# print \"*** Slots ***\"\n",
    "# print '\\n'.join([str(u) for u in session.query(models.SlotClass).all()])"
   ]
  }
 ],
 "metadata": {
  "kernelspec": {
   "display_name": "Python 2",
   "language": "python",
   "name": "python2"
  },
  "language_info": {
   "codemirror_mode": {
    "name": "ipython",
    "version": 2
   },
   "file_extension": ".py",
   "mimetype": "text/x-python",
   "name": "python",
   "nbconvert_exporter": "python",
   "pygments_lexer": "ipython2",
   "version": "2.7.15+"
  }
 },
 "nbformat": 4,
 "nbformat_minor": 2
}
