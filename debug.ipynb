{
 "cells": [
  {
   "cell_type": "code",
   "execution_count": 1,
   "metadata": {},
   "outputs": [
    {
     "name": "stderr",
     "output_type": "stream",
     "text": [
      "2019-07-17 23:53:57,784 - autofit.utils - INFO - importing /home/renzo/python/autofit/slots/__init__.pyc from autofit.slots\n",
      "2019-07-17 23:53:57,789 - autofit.utils - INFO - importing /home/renzo/python/autofit/producers/__init__.pyc from autofit.producers\n",
      "2019-07-17 23:53:57,791 - autofit - INFO - Network was successfully linked\n"
     ]
    }
   ],
   "source": [
    "import os\n",
    "import sys\n",
    "import datetime as dt\n",
    "import requests\n",
    "import autofit.models as m\n",
    "from config import configuration\n",
    "import autofit.utils\n",
    "import autofit.proxy as proxy"
   ]
  },
  {
   "cell_type": "code",
   "execution_count": 2,
   "metadata": {},
   "outputs": [],
   "source": [
    "os.remove(os.path.join('db', 'mrprdev.db'))\n",
    "m.create_all(configuration['development'])"
   ]
  },
  {
   "cell_type": "code",
   "execution_count": null,
   "metadata": {},
   "outputs": [],
   "source": [
    "session = m.get_session()\n",
    "for i in range(1):\n",
    "    keys = '%s|EUR|euro|equity|index' % (i+1)\n",
    "    slot = m.Slot(name='european_totem', keys=keys, date=dt.datetime.utcnow().date(), priority=1, state=m.SlotStatesEnum.pending, dbid='1')\n",
    "    m.insert_slot(slot, None)\n"
   ]
  },
  {
   "cell_type": "code",
   "execution_count": null,
   "metadata": {},
   "outputs": [],
   "source": [
    "proxy.schedule_producers()"
   ]
  },
  {
   "cell_type": "code",
   "execution_count": null,
   "metadata": {
    "scrolled": true
   },
   "outputs": [],
   "source": [
    "proxy.start_producers()"
   ]
  },
  {
   "cell_type": "code",
   "execution_count": null,
   "metadata": {},
   "outputs": [],
   "source": [
    "p = session.query(m.Producer).all()"
   ]
  },
  {
   "cell_type": "code",
   "execution_count": null,
   "metadata": {},
   "outputs": [],
   "source": [
    "p"
   ]
  },
  {
   "cell_type": "code",
   "execution_count": null,
   "metadata": {},
   "outputs": [],
   "source": [
    "p[0].completed.set()\n",
    "session.commit()"
   ]
  },
  {
   "cell_type": "code",
   "execution_count": null,
   "metadata": {},
   "outputs": [],
   "source": [
    "slot1 = m.Slot(name='implied_fwd', keys=keys, date=dt.datetime.utcnow().date(), priority=1, state=m.SlotStatesEnum.pending, dbid='1')\n",
    "slot2 = m.Slot(name='implied_vol', keys=keys, date=dt.datetime.utcnow().date(), priority=1, state=m.SlotStatesEnum.pending, dbid='1')"
   ]
  },
  {
   "cell_type": "code",
   "execution_count": null,
   "metadata": {},
   "outputs": [],
   "source": [
    "m.insert_slot(slot1, p[0])\n",
    "m.insert_slot(slot2, p[0])"
   ]
  },
  {
   "cell_type": "code",
   "execution_count": null,
   "metadata": {},
   "outputs": [],
   "source": [
    "proxy.schedule_producers()"
   ]
  },
  {
   "cell_type": "code",
   "execution_count": null,
   "metadata": {},
   "outputs": [],
   "source": [
    "proxy.start_producers()"
   ]
  },
  {
   "cell_type": "code",
   "execution_count": null,
   "metadata": {},
   "outputs": [],
   "source": [
    "slot3 = m.Slot(name='product_rate', keys=keys, date=dt.datetime.utcnow().date(), priority=1, state=m.SlotStatesEnum.pending, dbid='4')\n",
    "slot4 = m.Slot(name='dividends', keys=keys, date=dt.datetime.utcnow().date(), priority=1, state=m.SlotStatesEnum.pending, dbid='2')\n",
    "slot5 = m.Slot(name='volatility', keys=keys, date=dt.datetime.utcnow().date(), priority=1, state=m.SlotStatesEnum.pending, dbid='3')"
   ]
  },
  {
   "cell_type": "code",
   "execution_count": null,
   "metadata": {},
   "outputs": [],
   "source": [
    "# p = session.query(m.Producer).filter(m.Producer.running()).all()\n",
    "p = session.query(m.Producer).filter(m.Producer.pending()).filter(m.Producer.delayed_by>0).all()"
   ]
  },
  {
   "cell_type": "code",
   "execution_count": null,
   "metadata": {},
   "outputs": [],
   "source": [
    "print session.query(m.Producer).filter(m.Producer.pending()).filter(m.Producer.delayed_by>0)"
   ]
  },
  {
   "cell_type": "code",
   "execution_count": null,
   "metadata": {},
   "outputs": [],
   "source": [
    "for x in p:\n",
    "    print x.pname\n",
    "    x.completed.set()\n",
    "session.commit()"
   ]
  },
  {
   "cell_type": "code",
   "execution_count": null,
   "metadata": {},
   "outputs": [],
   "source": [
    "m.insert_slot(slot3, p[0])"
   ]
  },
  {
   "cell_type": "code",
   "execution_count": null,
   "metadata": {},
   "outputs": [],
   "source": [
    "m.insert_slot(slot4, p[0])"
   ]
  },
  {
   "cell_type": "code",
   "execution_count": null,
   "metadata": {
    "scrolled": false
   },
   "outputs": [],
   "source": [
    "m.insert_slot(slot5, p[1])"
   ]
  },
  {
   "cell_type": "code",
   "execution_count": null,
   "metadata": {},
   "outputs": [],
   "source": [
    "proxy.schedule_producers()"
   ]
  },
  {
   "cell_type": "code",
   "execution_count": null,
   "metadata": {},
   "outputs": [],
   "source": [
    "proxy.start_producers()"
   ]
  },
  {
   "cell_type": "code",
   "execution_count": null,
   "metadata": {},
   "outputs": [],
   "source": [
    "s1 = session.query(m.Slot).all()[1]"
   ]
  },
  {
   "cell_type": "code",
   "execution_count": null,
   "metadata": {},
   "outputs": [],
   "source": [
    "s1.listeners"
   ]
  },
  {
   "cell_type": "code",
   "execution_count": 3,
   "metadata": {},
   "outputs": [],
   "source": [
    "session = m.get_session()"
   ]
  },
  {
   "cell_type": "code",
   "execution_count": 11,
   "metadata": {},
   "outputs": [],
   "source": [
    "p = session.query(m.Producer).all()"
   ]
  },
  {
   "cell_type": "code",
   "execution_count": 12,
   "metadata": {},
   "outputs": [
    {
     "data": {
      "text/plain": [
       "1"
      ]
     },
     "execution_count": 12,
     "metadata": {},
     "output_type": "execute_result"
    }
   ],
   "source": [
    "len(p)"
   ]
  },
  {
   "cell_type": "code",
   "execution_count": null,
   "metadata": {},
   "outputs": [],
   "source": [
    "for x in session.query(m.Producer).subquery():\n",
    "    x._asdict()"
   ]
  },
  {
   "cell_type": "code",
   "execution_count": 14,
   "metadata": {},
   "outputs": [
    {
     "data": {
      "text/plain": [
       "{'args': u'[{\"ccy1\": \"EUR\", \"european_totem\": \"05cc3b9b6c494c0ab9f98543fa0ed841\", \"region\": \"euro\", \"id1\": \"1\", \"class_\": \"equity\", \"type_\": \"index\", \"pname\": \"black_scholes_calculator\", \"date\": \"2019-06-24\"}]',\n",
       " 'date': datetime.date(2019, 6, 24),\n",
       " 'keys': u'1|EUR|euro|equity|index',\n",
       " 'last_updated': datetime.datetime(2019, 7, 17, 22, 54, 55, 446404),\n",
       " 'pid': u'27ea6093f1664ce48ee1021be0d67f42',\n",
       " 'pname': u'black_scholes_calculator',\n",
       " 'state': u'pending'}"
      ]
     },
     "execution_count": 14,
     "metadata": {},
     "output_type": "execute_result"
    }
   ],
   "source": [
    "p[0]._asdict()"
   ]
  },
  {
   "cell_type": "code",
   "execution_count": null,
   "metadata": {},
   "outputs": [],
   "source": []
  }
 ],
 "metadata": {
  "kernelspec": {
   "display_name": "Python 2",
   "language": "python",
   "name": "python2"
  },
  "language_info": {
   "codemirror_mode": {
    "name": "ipython",
    "version": 2
   },
   "file_extension": ".py",
   "mimetype": "text/x-python",
   "name": "python",
   "nbconvert_exporter": "python",
   "pygments_lexer": "ipython2",
   "version": "2.7.15+"
  }
 },
 "nbformat": 4,
 "nbformat_minor": 2
}
