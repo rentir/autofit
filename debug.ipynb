{
 "cells": [
  {
   "cell_type": "code",
   "execution_count": 1,
   "metadata": {},
   "outputs": [
    {
     "name": "stderr",
     "output_type": "stream",
     "text": [
      "2019-07-01 16:35:50,922 - autofit.utils - INFO - importing /home/renzo/python/autofit/slots/__init__.pyc from autofit.slots\n",
      "2019-07-01 16:35:50,926 - autofit.utils - INFO - importing /home/renzo/python/autofit/producers/__init__.pyc from autofit.producers\n",
      "2019-07-01 16:35:50,929 - autofit - INFO - Network was successfully linked\n"
     ]
    }
   ],
   "source": [
    "import os\n",
    "import sys\n",
    "import datetime as dt\n",
    "import requests\n",
    "import autofit.models as m\n",
    "from config import configuration\n",
    "import autofit.utils\n",
    "import autofit.proxy as proxy"
   ]
  },
  {
   "cell_type": "code",
   "execution_count": 2,
   "metadata": {},
   "outputs": [],
   "source": [
    "os.remove(os.path.join('db', 'mrprdev.db'))\n",
    "m.create_all(configuration['development'])"
   ]
  },
  {
   "cell_type": "code",
   "execution_count": 3,
   "metadata": {},
   "outputs": [
    {
     "name": "stderr",
     "output_type": "stream",
     "text": [
      "DEBUG:autofit.models:inserting slot None\n",
      "DEBUG:autofit.models:The slot is NEW\n",
      "DEBUG:autofit.proxy:broadcasting to 'black_scholes_calculator'\n",
      "DEBUG:autofit.proxy:InputSlot <InputSlot(id_=None, pname='black_scholes_calculator', sname='european_totem', sid='02d32c62492640e99392b70a0f4dce26', id1='1', ccy1='EUR', id2='None', ccy2='None', class_='equity', type_='index'', region='euro', date=2019-07-01, last_updated=None, state='None'') was created\n",
      "DEBUG:autofit.proxy:acknowledge received from 'black_scholes_calculator' with result 'True'\n",
      "DEBUG:autofit.proxy:pending 0 acknowledgments\n"
     ]
    }
   ],
   "source": [
    "session = m.get_session()\n",
    "for i in range(1):\n",
    "    keys = '%s|EUR|euro|equity|index' % (i+1)\n",
    "    slot = m.Slot(name='european_totem', keys=keys, date=dt.datetime.utcnow().date(), priority=1, state=m.SlotStatesEnum.pending, dbid='1')\n",
    "    m.insert_slot(slot, None)\n"
   ]
  },
  {
   "cell_type": "code",
   "execution_count": 4,
   "metadata": {},
   "outputs": [
    {
     "name": "stderr",
     "output_type": "stream",
     "text": [
      "DEBUG:autofit.proxy:joining producer black_scholes_calculator\n",
      "DEBUG:autofit.proxy:added id_ 1\n",
      "DEBUG:autofit.proxy:producer 'black_scholes_calculator' is READY\n",
      "2019-07-01 16:35:57,457 - autofit.models - INFO - Inserting producer 'black_scholes_calculator'\n",
      "INFO:autofit.models:Inserting producer 'black_scholes_calculator'\n",
      "DEBUG:autofit.models:Created new producer\n",
      "DEBUG:autofit.models:'2c8394562f7b43f8b111f38503dd3e0b' linked to ''02d32c62492640e99392b70a0f4dce26'\n",
      "2019-07-01 16:35:57,477 - autofit.models - INFO - 2c8394562f7b43f8b111f38503dd3e0b successfully inserted\n",
      "INFO:autofit.models:2c8394562f7b43f8b111f38503dd3e0b successfully inserted\n",
      "2019-07-01 16:35:57,486 - autofit.proxy - INFO - Setting InputSlot.state='processed' to InputSlot.id_='1', pname='black_scholes_calculator', sname='european_totem', sid='02d32c62492640e99392b70a0f4dce26'\n",
      "INFO:autofit.proxy:Setting InputSlot.state='processed' to InputSlot.id_='1', pname='black_scholes_calculator', sname='european_totem', sid='02d32c62492640e99392b70a0f4dce26'\n"
     ]
    }
   ],
   "source": [
    "proxy.schedule_producers()"
   ]
  },
  {
   "cell_type": "code",
   "execution_count": 5,
   "metadata": {
    "scrolled": true
   },
   "outputs": [
    {
     "name": "stderr",
     "output_type": "stream",
     "text": [
      "2019-07-01 16:36:12,604 - autofit.proxy - INFO - STARTING producer black_scholes_calculator\n",
      "INFO:autofit.proxy:STARTING producer black_scholes_calculator\n",
      "DEBUG:autofit.launcher:executing producer with pid '2c8394562f7b43f8b111f38503dd3e0b'\n",
      "2019-07-01 16:36:12,609 - autofit.proxy - INFO - Is running? True\n",
      "INFO:autofit.proxy:Is running? True\n"
     ]
    }
   ],
   "source": [
    "proxy.start_producers()"
   ]
  },
  {
   "cell_type": "code",
   "execution_count": 6,
   "metadata": {},
   "outputs": [],
   "source": [
    "p = session.query(m.Producer).all()"
   ]
  },
  {
   "cell_type": "code",
   "execution_count": 7,
   "metadata": {},
   "outputs": [],
   "source": [
    "p[0].completed.set()\n",
    "session.commit()"
   ]
  },
  {
   "cell_type": "code",
   "execution_count": 8,
   "metadata": {},
   "outputs": [],
   "source": [
    "slot1 = m.Slot(name='implied_fwd', keys=keys, date=dt.datetime.utcnow().date(), priority=1, state=m.SlotStatesEnum.pending, dbid='1')\n",
    "slot2 = m.Slot(name='implied_vol', keys=keys, date=dt.datetime.utcnow().date(), priority=1, state=m.SlotStatesEnum.pending, dbid='1')"
   ]
  },
  {
   "cell_type": "code",
   "execution_count": 9,
   "metadata": {},
   "outputs": [
    {
     "name": "stderr",
     "output_type": "stream",
     "text": [
      "DEBUG:autofit.models:inserting slot None\n",
      "DEBUG:autofit.models:The slot is NEW\n",
      "DEBUG:autofit.proxy:broadcasting to 'vol_fitter'\n",
      "DEBUG:autofit.proxy:InputSlot <InputSlot(id_=None, pname='vol_fitter', sname='implied_fwd', sid='3dd23aa43aea43ebaac41cef9d99cc4d', id1='1', ccy1='EUR', id2='None', ccy2='None', class_='equity', type_='index'', region='euro', date=2019-07-01, last_updated=None, state='None'') was created\n",
      "DEBUG:autofit.proxy:acknowledge received from 'vol_fitter' with result 'True'\n",
      "DEBUG:autofit.proxy:pending 2 acknowledgments\n",
      "DEBUG:autofit.proxy:broadcasting to 'synthetic_fwd_fitter'\n",
      "DEBUG:autofit.proxy:InputSlot <InputSlot(id_=None, pname='synthetic_fwd_fitter', sname='implied_fwd', sid='3dd23aa43aea43ebaac41cef9d99cc4d', id1='1', ccy1='EUR', id2='None', ccy2='None', class_='equity', type_='index'', region='euro', date=2019-07-01, last_updated=None, state='None'') was created\n",
      "DEBUG:autofit.proxy:acknowledge received from 'synthetic_fwd_fitter' with result 'True'\n",
      "DEBUG:autofit.proxy:pending 1 acknowledgments\n",
      "DEBUG:autofit.proxy:broadcasting to 'trs_fwd_fitter'\n",
      "DEBUG:autofit.proxy:InputSlot <InputSlot(id_=None, pname='trs_fwd_fitter', sname='implied_fwd', sid='3dd23aa43aea43ebaac41cef9d99cc4d', id1='1', ccy1='EUR', id2='None', ccy2='None', class_='equity', type_='index'', region='euro', date=2019-07-01, last_updated=None, state='None'') was created\n",
      "DEBUG:autofit.proxy:acknowledge received from 'trs_fwd_fitter' with result 'True'\n",
      "DEBUG:autofit.proxy:pending 0 acknowledgments\n",
      "DEBUG:autofit.models:inserting slot None\n",
      "DEBUG:autofit.models:The slot is NEW\n",
      "DEBUG:autofit.proxy:broadcasting to 'vol_fitter'\n",
      "DEBUG:autofit.proxy:InputSlot <InputSlot(id_=None, pname='vol_fitter', sname='implied_vol', sid='f74f9710055846f98e44cb9d3618f528', id1='1', ccy1='EUR', id2='None', ccy2='None', class_='equity', type_='index'', region='euro', date=2019-07-01, last_updated=None, state='None'') was created\n",
      "DEBUG:autofit.proxy:acknowledge received from 'vol_fitter' with result 'True'\n",
      "DEBUG:autofit.proxy:pending 0 acknowledgments\n"
     ]
    },
    {
     "data": {
      "text/plain": [
       "True"
      ]
     },
     "execution_count": 9,
     "metadata": {},
     "output_type": "execute_result"
    }
   ],
   "source": [
    "m.insert_slot(slot1, p[0])\n",
    "m.insert_slot(slot2, p[0])"
   ]
  },
  {
   "cell_type": "code",
   "execution_count": 10,
   "metadata": {},
   "outputs": [
    {
     "name": "stderr",
     "output_type": "stream",
     "text": [
      "DEBUG:autofit.proxy:joining producer synthetic_fwd_fitter\n",
      "DEBUG:autofit.proxy:added id_ 3\n",
      "DEBUG:autofit.proxy:producer 'synthetic_fwd_fitter' is READY\n",
      "2019-07-01 16:36:42,315 - autofit.models - INFO - Inserting producer 'synthetic_fwd_fitter'\n",
      "INFO:autofit.models:Inserting producer 'synthetic_fwd_fitter'\n",
      "DEBUG:autofit.models:Created new producer\n",
      "DEBUG:autofit.models:'b75d70349f194f53a1bb542bdd433533' linked to ''3dd23aa43aea43ebaac41cef9d99cc4d'\n",
      "2019-07-01 16:36:42,336 - autofit.models - INFO - b75d70349f194f53a1bb542bdd433533 successfully inserted\n",
      "INFO:autofit.models:b75d70349f194f53a1bb542bdd433533 successfully inserted\n",
      "DEBUG:autofit.proxy:joining producer trs_fwd_fitter\n",
      "DEBUG:autofit.proxy:added id_ 4\n",
      "DEBUG:autofit.proxy:producer 'trs_fwd_fitter' is INCOMPLETE\n",
      "DEBUG:autofit.proxy:joining producer vol_fitter\n",
      "DEBUG:autofit.proxy:added id_ 2\n",
      "DEBUG:autofit.proxy:added id_ 5\n",
      "DEBUG:autofit.proxy:producer 'vol_fitter' is READY\n",
      "2019-07-01 16:36:42,435 - autofit.models - INFO - Inserting producer 'vol_fitter'\n",
      "INFO:autofit.models:Inserting producer 'vol_fitter'\n",
      "DEBUG:autofit.models:Created new producer\n",
      "DEBUG:autofit.models:'None' linked to ''3dd23aa43aea43ebaac41cef9d99cc4d'\n",
      "DEBUG:autofit.models:'b9318bfbcf834dbe9397c5b257f9f03c' linked to ''f74f9710055846f98e44cb9d3618f528'\n",
      "2019-07-01 16:36:42,447 - autofit.models - INFO - b9318bfbcf834dbe9397c5b257f9f03c successfully inserted\n",
      "INFO:autofit.models:b9318bfbcf834dbe9397c5b257f9f03c successfully inserted\n",
      "2019-07-01 16:36:42,454 - autofit.proxy - INFO - Setting InputSlot.state='processed' to InputSlot.id_='2', pname='vol_fitter', sname='implied_fwd', sid='3dd23aa43aea43ebaac41cef9d99cc4d'\n",
      "INFO:autofit.proxy:Setting InputSlot.state='processed' to InputSlot.id_='2', pname='vol_fitter', sname='implied_fwd', sid='3dd23aa43aea43ebaac41cef9d99cc4d'\n",
      "2019-07-01 16:36:42,457 - autofit.proxy - INFO - Setting InputSlot.state='processed' to InputSlot.id_='3', pname='synthetic_fwd_fitter', sname='implied_fwd', sid='3dd23aa43aea43ebaac41cef9d99cc4d'\n",
      "INFO:autofit.proxy:Setting InputSlot.state='processed' to InputSlot.id_='3', pname='synthetic_fwd_fitter', sname='implied_fwd', sid='3dd23aa43aea43ebaac41cef9d99cc4d'\n",
      "2019-07-01 16:36:42,460 - autofit.proxy - INFO - Setting InputSlot.state='processed' to InputSlot.id_='4', pname='trs_fwd_fitter', sname='implied_fwd', sid='3dd23aa43aea43ebaac41cef9d99cc4d'\n",
      "INFO:autofit.proxy:Setting InputSlot.state='processed' to InputSlot.id_='4', pname='trs_fwd_fitter', sname='implied_fwd', sid='3dd23aa43aea43ebaac41cef9d99cc4d'\n",
      "2019-07-01 16:36:42,463 - autofit.proxy - INFO - Setting InputSlot.state='processed' to InputSlot.id_='5', pname='vol_fitter', sname='implied_vol', sid='f74f9710055846f98e44cb9d3618f528'\n",
      "INFO:autofit.proxy:Setting InputSlot.state='processed' to InputSlot.id_='5', pname='vol_fitter', sname='implied_vol', sid='f74f9710055846f98e44cb9d3618f528'\n"
     ]
    }
   ],
   "source": [
    "proxy.schedule_producers()"
   ]
  },
  {
   "cell_type": "code",
   "execution_count": 11,
   "metadata": {},
   "outputs": [
    {
     "name": "stderr",
     "output_type": "stream",
     "text": [
      "2019-07-01 16:37:07,386 - autofit.proxy - INFO - STARTING producer synthetic_fwd_fitter\n",
      "INFO:autofit.proxy:STARTING producer synthetic_fwd_fitter\n",
      "DEBUG:autofit.launcher:executing producer with pid 'b75d70349f194f53a1bb542bdd433533'\n",
      "2019-07-01 16:37:07,392 - autofit.proxy - INFO - Is running? True\n",
      "INFO:autofit.proxy:Is running? True\n",
      "2019-07-01 16:37:07,395 - autofit.proxy - INFO - STARTING producer vol_fitter\n",
      "INFO:autofit.proxy:STARTING producer vol_fitter\n",
      "DEBUG:autofit.launcher:executing producer with pid 'b9318bfbcf834dbe9397c5b257f9f03c'\n",
      "2019-07-01 16:37:07,399 - autofit.proxy - INFO - Is running? True\n",
      "INFO:autofit.proxy:Is running? True\n"
     ]
    }
   ],
   "source": [
    "proxy.start_producers()"
   ]
  },
  {
   "cell_type": "code",
   "execution_count": 12,
   "metadata": {},
   "outputs": [],
   "source": [
    "slot3 = m.Slot(name='product_rate', keys=keys, date=dt.datetime.utcnow().date(), priority=1, state=m.SlotStatesEnum.pending, dbid='4')\n",
    "slot4 = m.Slot(name='dividends', keys=keys, date=dt.datetime.utcnow().date(), priority=1, state=m.SlotStatesEnum.pending, dbid='2')\n",
    "slot5 = m.Slot(name='volatility', keys=keys, date=dt.datetime.utcnow().date(), priority=1, state=m.SlotStatesEnum.pending, dbid='3')"
   ]
  },
  {
   "cell_type": "code",
   "execution_count": 13,
   "metadata": {},
   "outputs": [],
   "source": [
    "p = session.query(m.Producer).filter(m.Producer.running()).all()"
   ]
  },
  {
   "cell_type": "code",
   "execution_count": 14,
   "metadata": {},
   "outputs": [
    {
     "name": "stdout",
     "output_type": "stream",
     "text": [
      "synthetic_fwd_fitter\n",
      "vol_fitter\n"
     ]
    }
   ],
   "source": [
    "for x in p:\n",
    "    print x.pname\n",
    "    x.completed.set()\n",
    "session.commit()"
   ]
  },
  {
   "cell_type": "code",
   "execution_count": 15,
   "metadata": {},
   "outputs": [
    {
     "name": "stderr",
     "output_type": "stream",
     "text": [
      "DEBUG:autofit.models:inserting slot None\n",
      "DEBUG:autofit.models:The slot is NEW\n",
      "DEBUG:autofit.proxy:broadcasting to 'varswap_fitter'\n",
      "DEBUG:autofit.proxy:InputSlot <InputSlot(id_=None, pname='varswap_fitter', sname='product_rate', sid='f0a73cf3f26541958c9d2e5fec827368', id1='1', ccy1='EUR', id2='None', ccy2='None', class_='equity', type_='index'', region='euro', date=2019-07-01, last_updated=None, state='None'') was created\n",
      "DEBUG:autofit.proxy:acknowledge received from 'varswap_fitter' with result 'True'\n",
      "DEBUG:autofit.proxy:pending 0 acknowledgments\n"
     ]
    },
    {
     "data": {
      "text/plain": [
       "True"
      ]
     },
     "execution_count": 15,
     "metadata": {},
     "output_type": "execute_result"
    }
   ],
   "source": [
    "m.insert_slot(slot3, p[0])"
   ]
  },
  {
   "cell_type": "code",
   "execution_count": 16,
   "metadata": {},
   "outputs": [
    {
     "name": "stderr",
     "output_type": "stream",
     "text": [
      "DEBUG:autofit.models:inserting slot None\n",
      "DEBUG:autofit.models:The slot is NEW\n",
      "DEBUG:autofit.proxy:broadcasting to 'varswap_fitter'\n",
      "DEBUG:autofit.proxy:InputSlot <InputSlot(id_=None, pname='varswap_fitter', sname='dividends', sid='257cd471601c496a9b0abc6034d8f376', id1='1', ccy1='EUR', id2='None', ccy2='None', class_='equity', type_='index'', region='euro', date=2019-07-01, last_updated=None, state='None'') was created\n",
      "DEBUG:autofit.proxy:acknowledge received from 'varswap_fitter' with result 'True'\n",
      "DEBUG:autofit.proxy:pending 0 acknowledgments\n"
     ]
    },
    {
     "data": {
      "text/plain": [
       "True"
      ]
     },
     "execution_count": 16,
     "metadata": {},
     "output_type": "execute_result"
    }
   ],
   "source": [
    "m.insert_slot(slot4, p[0])"
   ]
  },
  {
   "cell_type": "code",
   "execution_count": 17,
   "metadata": {
    "scrolled": false
   },
   "outputs": [
    {
     "name": "stderr",
     "output_type": "stream",
     "text": [
      "DEBUG:autofit.models:inserting slot None\n",
      "DEBUG:autofit.models:The slot is NEW\n",
      "DEBUG:autofit.proxy:broadcasting to 'varswap_fitter'\n",
      "DEBUG:autofit.proxy:InputSlot <InputSlot(id_=None, pname='varswap_fitter', sname='volatility', sid='b21f82379c2343b98c7aea0570b4d620', id1='1', ccy1='EUR', id2='None', ccy2='None', class_='equity', type_='index'', region='euro', date=2019-07-01, last_updated=None, state='None'') was created\n",
      "DEBUG:autofit.proxy:acknowledge received from 'varswap_fitter' with result 'True'\n",
      "DEBUG:autofit.proxy:pending 0 acknowledgments\n"
     ]
    },
    {
     "data": {
      "text/plain": [
       "True"
      ]
     },
     "execution_count": 17,
     "metadata": {},
     "output_type": "execute_result"
    }
   ],
   "source": [
    "m.insert_slot(slot5, p[1])"
   ]
  },
  {
   "cell_type": "code",
   "execution_count": 18,
   "metadata": {},
   "outputs": [
    {
     "name": "stderr",
     "output_type": "stream",
     "text": [
      "DEBUG:autofit.proxy:joining producer varswap_fitter\n",
      "DEBUG:autofit.proxy:added id_ 8\n",
      "DEBUG:autofit.proxy:added id_ 7\n",
      "DEBUG:autofit.proxy:added id_ 6\n",
      "DEBUG:autofit.proxy:producer 'varswap_fitter' is INCOMPLETE\n",
      "2019-07-01 16:39:04,305 - autofit.proxy - INFO - Setting InputSlot.state='processed' to InputSlot.id_='6', pname='varswap_fitter', sname='product_rate', sid='f0a73cf3f26541958c9d2e5fec827368'\n",
      "INFO:autofit.proxy:Setting InputSlot.state='processed' to InputSlot.id_='6', pname='varswap_fitter', sname='product_rate', sid='f0a73cf3f26541958c9d2e5fec827368'\n",
      "2019-07-01 16:39:04,308 - autofit.proxy - INFO - Setting InputSlot.state='processed' to InputSlot.id_='7', pname='varswap_fitter', sname='dividends', sid='257cd471601c496a9b0abc6034d8f376'\n",
      "INFO:autofit.proxy:Setting InputSlot.state='processed' to InputSlot.id_='7', pname='varswap_fitter', sname='dividends', sid='257cd471601c496a9b0abc6034d8f376'\n",
      "2019-07-01 16:39:04,311 - autofit.proxy - INFO - Setting InputSlot.state='processed' to InputSlot.id_='8', pname='varswap_fitter', sname='volatility', sid='b21f82379c2343b98c7aea0570b4d620'\n",
      "INFO:autofit.proxy:Setting InputSlot.state='processed' to InputSlot.id_='8', pname='varswap_fitter', sname='volatility', sid='b21f82379c2343b98c7aea0570b4d620'\n"
     ]
    }
   ],
   "source": [
    "proxy.schedule_producers()"
   ]
  },
  {
   "cell_type": "code",
   "execution_count": 19,
   "metadata": {},
   "outputs": [],
   "source": [
    "proxy.start_producers()"
   ]
  },
  {
   "cell_type": "code",
   "execution_count": 20,
   "metadata": {},
   "outputs": [],
   "source": [
    "s1 = session.query(m.Slot).all()[1]"
   ]
  },
  {
   "cell_type": "code",
   "execution_count": 21,
   "metadata": {},
   "outputs": [
    {
     "data": {
      "text/plain": [
       "[<Producer(pid='b75d70349f194f53a1bb542bdd433533', pname='synthetic_fwd_fitter', keys='1|EUR|euro|equity|index', args='[{\"ccy1\": \"EUR\", \"implied_fwd\": \"3dd23aa43aea43ebaac41cef9d99cc4d\", \"region\": \"euro\", \"id1\": \"1\", \"class_\": \"equity\", \"type_\": \"index\", \"pname\": \"synthetic_fwd_fitter\", \"date\": \"2019-07-01\"}]', date='2019-07-01', state='completed', last_updated='2019-07-01 15:36:42.324561')>,\n",
       " <Producer(pid='b9318bfbcf834dbe9397c5b257f9f03c', pname='vol_fitter', keys='1|EUR|euro|equity|index', args='[{\"ccy1\": \"EUR\", \"implied_fwd\": \"3dd23aa43aea43ebaac41cef9d99cc4d\", \"implied_vol\": \"f74f9710055846f98e44cb9d3618f528\", \"region\": \"euro\", \"id1\": \"1\", \"class_\": \"equity\", \"type_\": \"index\", \"pname\": \"vol_fitter\", \"date\": \"2019-07-01\"}]', date='2019-07-01', state='completed', last_updated='2019-07-01 15:36:42.442883')>]"
      ]
     },
     "execution_count": 21,
     "metadata": {},
     "output_type": "execute_result"
    }
   ],
   "source": [
    "s1.listeners"
   ]
  },
  {
   "cell_type": "code",
   "execution_count": null,
   "metadata": {},
   "outputs": [],
   "source": []
  }
 ],
 "metadata": {
  "kernelspec": {
   "display_name": "Python 2",
   "language": "python",
   "name": "python2"
  },
  "language_info": {
   "codemirror_mode": {
    "name": "ipython",
    "version": 2
   },
   "file_extension": ".py",
   "mimetype": "text/x-python",
   "name": "python",
   "nbconvert_exporter": "python",
   "pygments_lexer": "ipython2",
   "version": "2.7.15+"
  }
 },
 "nbformat": 4,
 "nbformat_minor": 2
}
