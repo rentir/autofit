{
 "cells": [
  {
   "cell_type": "code",
   "execution_count": 1,
   "metadata": {},
   "outputs": [
    {
     "name": "stderr",
     "output_type": "stream",
     "text": [
      "2019-07-22 23:37:12,065 - autofit.utils - INFO - importing /home/renzo/python/autofit/slots/__init__.pyc from autofit.slots\n",
      "2019-07-22 23:37:12,070 - autofit.utils - INFO - importing /home/renzo/python/autofit/producers/__init__.pyc from autofit.producers\n",
      "2019-07-22 23:37:12,074 - autofit - INFO - Network was successfully linked\n"
     ]
    }
   ],
   "source": [
    "import os\n",
    "import sys\n",
    "import datetime as dt\n",
    "import requests\n",
    "import autofit.models as m\n",
    "from config import configuration\n",
    "import autofit.utils\n",
    "import autofit.proxy as proxy"
   ]
  },
  {
   "cell_type": "code",
   "execution_count": 2,
   "metadata": {},
   "outputs": [],
   "source": [
    "# os.remove(os.path.join('db', 'mrprdev.db'))\n",
    "m.create_all(configuration['development'])"
   ]
  },
  {
   "cell_type": "code",
   "execution_count": null,
   "metadata": {},
   "outputs": [],
   "source": [
    "session = m.get_session()\n",
    "for i in range(1):\n",
    "    keys = '%s|EUR|euro|equity|index' % (i+1)\n",
    "    slot = m.Slot(name='european_totem', keys=keys, date=dt.datetime.utcnow().date(), priority=1, state=m.SlotStatesEnum.pending, dbid='1')\n",
    "    m.insert_slot(slot, None)\n"
   ]
  },
  {
   "cell_type": "code",
   "execution_count": null,
   "metadata": {},
   "outputs": [],
   "source": [
    "proxy.schedule_producers()"
   ]
  },
  {
   "cell_type": "code",
   "execution_count": null,
   "metadata": {
    "scrolled": true
   },
   "outputs": [],
   "source": [
    "proxy.start_producers()"
   ]
  },
  {
   "cell_type": "code",
   "execution_count": null,
   "metadata": {},
   "outputs": [],
   "source": [
    "p = session.query(m.Producer).all()"
   ]
  },
  {
   "cell_type": "code",
   "execution_count": null,
   "metadata": {},
   "outputs": [],
   "source": [
    "p"
   ]
  },
  {
   "cell_type": "code",
   "execution_count": null,
   "metadata": {},
   "outputs": [],
   "source": [
    "p[0].completed.set()\n",
    "session.commit()"
   ]
  },
  {
   "cell_type": "code",
   "execution_count": null,
   "metadata": {},
   "outputs": [],
   "source": [
    "slot1 = m.Slot(name='implied_fwd', keys=keys, date=dt.datetime.utcnow().date(), priority=1, state=m.SlotStatesEnum.pending, dbid='1')\n",
    "slot2 = m.Slot(name='implied_vol', keys=keys, date=dt.datetime.utcnow().date(), priority=1, state=m.SlotStatesEnum.pending, dbid='1')"
   ]
  },
  {
   "cell_type": "code",
   "execution_count": null,
   "metadata": {},
   "outputs": [],
   "source": [
    "m.insert_slot(slot1, p[0])\n",
    "m.insert_slot(slot2, p[0])"
   ]
  },
  {
   "cell_type": "code",
   "execution_count": null,
   "metadata": {},
   "outputs": [],
   "source": [
    "proxy.schedule_producers()"
   ]
  },
  {
   "cell_type": "code",
   "execution_count": null,
   "metadata": {},
   "outputs": [],
   "source": [
    "proxy.start_producers()"
   ]
  },
  {
   "cell_type": "code",
   "execution_count": null,
   "metadata": {},
   "outputs": [],
   "source": [
    "slot3 = m.Slot(name='product_rate', keys=keys, date=dt.datetime.utcnow().date(), priority=1, state=m.SlotStatesEnum.pending, dbid='4')\n",
    "slot4 = m.Slot(name='dividends', keys=keys, date=dt.datetime.utcnow().date(), priority=1, state=m.SlotStatesEnum.pending, dbid='2')\n",
    "slot5 = m.Slot(name='volatility', keys=keys, date=dt.datetime.utcnow().date(), priority=1, state=m.SlotStatesEnum.pending, dbid='3')"
   ]
  },
  {
   "cell_type": "code",
   "execution_count": null,
   "metadata": {},
   "outputs": [],
   "source": [
    "# p = session.query(m.Producer).filter(m.Producer.running()).all()\n",
    "p = session.query(m.Producer).filter(m.Producer.pending()).filter(m.Producer.delayed_by>0).all()"
   ]
  },
  {
   "cell_type": "code",
   "execution_count": null,
   "metadata": {},
   "outputs": [],
   "source": [
    "print session.query(m.Producer).filter(m.Producer.pending()).filter(m.Producer.delayed_by>0)"
   ]
  },
  {
   "cell_type": "code",
   "execution_count": null,
   "metadata": {},
   "outputs": [],
   "source": [
    "for x in p:\n",
    "    print x.pname\n",
    "    x.completed.set()\n",
    "session.commit()"
   ]
  },
  {
   "cell_type": "code",
   "execution_count": null,
   "metadata": {},
   "outputs": [],
   "source": [
    "m.insert_slot(slot3, p[0])"
   ]
  },
  {
   "cell_type": "code",
   "execution_count": null,
   "metadata": {},
   "outputs": [],
   "source": [
    "m.insert_slot(slot4, p[0])"
   ]
  },
  {
   "cell_type": "code",
   "execution_count": null,
   "metadata": {
    "scrolled": false
   },
   "outputs": [],
   "source": [
    "m.insert_slot(slot5, p[1])"
   ]
  },
  {
   "cell_type": "code",
   "execution_count": null,
   "metadata": {},
   "outputs": [],
   "source": [
    "proxy.schedule_producers()"
   ]
  },
  {
   "cell_type": "code",
   "execution_count": null,
   "metadata": {},
   "outputs": [],
   "source": [
    "proxy.start_producers()"
   ]
  },
  {
   "cell_type": "code",
   "execution_count": null,
   "metadata": {},
   "outputs": [],
   "source": [
    "s1 = session.query(m.Slot).all()[1]"
   ]
  },
  {
   "cell_type": "code",
   "execution_count": null,
   "metadata": {},
   "outputs": [],
   "source": [
    "s1.listeners"
   ]
  },
  {
   "cell_type": "code",
   "execution_count": null,
   "metadata": {},
   "outputs": [],
   "source": [
    "session = m.get_session()"
   ]
  },
  {
   "cell_type": "code",
   "execution_count": null,
   "metadata": {},
   "outputs": [],
   "source": [
    "p = session.query(m.Producer).all()"
   ]
  },
  {
   "cell_type": "code",
   "execution_count": null,
   "metadata": {},
   "outputs": [],
   "source": [
    "len(p)"
   ]
  },
  {
   "cell_type": "code",
   "execution_count": null,
   "metadata": {},
   "outputs": [],
   "source": [
    "for x in session.query(m.Producer).subquery():\n",
    "    x._asdict()"
   ]
  },
  {
   "cell_type": "code",
   "execution_count": null,
   "metadata": {},
   "outputs": [],
   "source": [
    "p[0]._asdict()"
   ]
  },
  {
   "cell_type": "code",
   "execution_count": 3,
   "metadata": {},
   "outputs": [],
   "source": [
    "session = m.get_session()"
   ]
  },
  {
   "cell_type": "code",
   "execution_count": 4,
   "metadata": {},
   "outputs": [],
   "source": [
    "slot = session.query(m.Slot).filter_by(sid='7c4ca37b2525493e90eefef81e8aa0c2').one()"
   ]
  },
  {
   "cell_type": "code",
   "execution_count": 5,
   "metadata": {},
   "outputs": [
    {
     "data": {
      "text/plain": [
       "<Slot(sid=7c4ca37b2525493e90eefef81e8aa0c2, name='varswapvolbasis', keys='1|EUR|euro|equity|index', date=2019-06-24, priority=1, state='current', dbid='1fa3ebdc90c2454d9af9fe37bcdb9e2b')>"
      ]
     },
     "execution_count": 5,
     "metadata": {},
     "output_type": "execute_result"
    }
   ],
   "source": [
    "slot"
   ]
  },
  {
   "cell_type": "code",
   "execution_count": 7,
   "metadata": {},
   "outputs": [],
   "source": [
    "l = m.lineage(slot)"
   ]
  },
  {
   "cell_type": "code",
   "execution_count": 9,
   "metadata": {},
   "outputs": [
    {
     "data": {
      "text/plain": [
       "{'keys': u'1|EUR|euro|equity|index',\n",
       " 'name': u'varswapvolbasis',\n",
       " 'pid': u'16e443c53d644de8876d7ac5698f2e2f',\n",
       " 'pname': u'varswap_fitter',\n",
       " 'sid': u'7c4ca37b2525493e90eefef81e8aa0c2'}"
      ]
     },
     "execution_count": 9,
     "metadata": {},
     "output_type": "execute_result"
    }
   ],
   "source": [
    "l['slot']"
   ]
  },
  {
   "cell_type": "code",
   "execution_count": 11,
   "metadata": {},
   "outputs": [
    {
     "data": {
      "text/plain": [
       "{'inputs': [{'inputs': [{'inputs': None,\n",
       "     'slot': {'keys': u'1|EUR|euro|equity|index',\n",
       "      'name': u'european_totem',\n",
       "      'sid': u'b086eb7627f34d4e8f28a48aaf80e163'}}],\n",
       "   'slot': {'keys': u'1|EUR|euro|equity|index',\n",
       "    'name': u'implied_fwd',\n",
       "    'pid': u'c5440afd04c041cdad067c943f7080af',\n",
       "    'pname': u'black_scholes_calculator',\n",
       "    'sid': u'641a376dc8854ec3a31289d3cbf42840'}}],\n",
       " 'slot': {'keys': u'1|EUR|euro|equity|index',\n",
       "  'name': u'dividends',\n",
       "  'pid': u'8122c12e6fc042d3a06aa48d3a9b6075',\n",
       "  'pname': u'synthetic_fwd_fitter',\n",
       "  'sid': u'bcff3b4dd04e45d68fbe58e7e562f76a'}}"
      ]
     },
     "execution_count": 11,
     "metadata": {},
     "output_type": "execute_result"
    }
   ],
   "source": [
    "l['inputs'][1]"
   ]
  },
  {
   "cell_type": "code",
   "execution_count": null,
   "metadata": {},
   "outputs": [],
   "source": []
  }
 ],
 "metadata": {
  "kernelspec": {
   "display_name": "Python 2",
   "language": "python",
   "name": "python2"
  },
  "language_info": {
   "codemirror_mode": {
    "name": "ipython",
    "version": 2
   },
   "file_extension": ".py",
   "mimetype": "text/x-python",
   "name": "python",
   "nbconvert_exporter": "python",
   "pygments_lexer": "ipython2",
   "version": "2.7.15+"
  }
 },
 "nbformat": 4,
 "nbformat_minor": 2
}
