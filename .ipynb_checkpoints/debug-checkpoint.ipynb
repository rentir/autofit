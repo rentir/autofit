{
 "cells": [
  {
   "cell_type": "code",
   "execution_count": 1,
   "metadata": {},
   "outputs": [
    {
     "name": "stderr",
     "output_type": "stream",
     "text": [
      "2019-07-01 16:08:41,368 - autofit.utils - INFO - importing /home/renzo/python/autofit/slots/__init__.pyc from autofit.slots\n",
      "2019-07-01 16:08:41,372 - autofit.utils - INFO - importing /home/renzo/python/autofit/producers/__init__.pyc from autofit.producers\n",
      "2019-07-01 16:08:41,375 - autofit - INFO - Network was successfully linked\n"
     ]
    }
   ],
   "source": [
    "import os\n",
    "import sys\n",
    "import datetime as dt\n",
    "import requests\n",
    "import autofit.models as m\n",
    "from config import configuration\n",
    "import autofit.utils\n",
    "import autofit.proxy as proxy"
   ]
  },
  {
   "cell_type": "code",
   "execution_count": 2,
   "metadata": {},
   "outputs": [],
   "source": [
    "os.remove(os.path.join('db', 'mrprdev.db'))\n",
    "m.create_all(configuration['development'])"
   ]
  },
  {
   "cell_type": "code",
   "execution_count": 3,
   "metadata": {},
   "outputs": [
    {
     "name": "stderr",
     "output_type": "stream",
     "text": [
      "DEBUG:autofit.models:inserting slot None\n",
      "DEBUG:autofit.models:The slot is NEW\n",
      "DEBUG:autofit.proxy:broadcasting to 'black_scholes_calculator'\n",
      "DEBUG:autofit.proxy:InputSlot <InputSlot(id_=None, pname='black_scholes_calculator', sname='european_totem', sid='e9c107c1875f40af8e896c62b8f7a487', id1='1', ccy1='EUR', id2='None', ccy2='None', class_='equity', type_='index'', region='euro', date=2019-07-01, last_updated=None, state='None'') was created\n",
      "DEBUG:autofit.proxy:acknowledge received from 'black_scholes_calculator' with result 'True'\n",
      "DEBUG:autofit.proxy:pending 0 acknowledgments\n"
     ]
    }
   ],
   "source": [
    "session = m.get_session()\n",
    "for i in range(1):\n",
    "    keys = '%s|EUR|euro|equity|index' % (i+1)\n",
    "    slot = m.Slot(name='european_totem', keys=keys, date=dt.datetime.utcnow().date(), priority=1, state=m.SlotStatesEnum.pending, dbid='1')\n",
    "    m.insert_slot(slot, None)\n"
   ]
  },
  {
   "cell_type": "code",
   "execution_count": 4,
   "metadata": {},
   "outputs": [
    {
     "name": "stderr",
     "output_type": "stream",
     "text": [
      "DEBUG:autofit.proxy:joining producer black_scholes_calculator\n",
      "DEBUG:autofit.proxy:producer 'black_scholes_calculator' is READY\n",
      "2019-07-01 16:08:55,136 - autofit.models - INFO - Inserting producer 'black_scholes_calculator'\n",
      "INFO:autofit.models:Inserting producer 'black_scholes_calculator'\n",
      "DEBUG:autofit.models:Created new producer\n",
      "DEBUG:autofit.models:'f43d4c4eb17e423e8a5ea885b434fde8' linked to ''e9c107c1875f40af8e896c62b8f7a487'\n",
      "2019-07-01 16:08:55,150 - autofit.models - INFO - f43d4c4eb17e423e8a5ea885b434fde8 successfully inserted\n",
      "INFO:autofit.models:f43d4c4eb17e423e8a5ea885b434fde8 successfully inserted\n",
      "2019-07-01 16:08:55,156 - autofit.proxy - INFO - Setting InputSlot.state='processed' to InputSlot.id_='1', pname='black_scholes_calculator'\n",
      "INFO:autofit.proxy:Setting InputSlot.state='processed' to InputSlot.id_='1', pname='black_scholes_calculator'\n"
     ]
    }
   ],
   "source": [
    "proxy.schedule_producers()"
   ]
  },
  {
   "cell_type": "code",
   "execution_count": 5,
   "metadata": {
    "scrolled": true
   },
   "outputs": [
    {
     "name": "stderr",
     "output_type": "stream",
     "text": [
      "2019-07-01 16:08:55,645 - autofit.proxy - INFO - STARTING producer black_scholes_calculator\n",
      "INFO:autofit.proxy:STARTING producer black_scholes_calculator\n",
      "DEBUG:autofit.launcher:executing producer with pid 'f43d4c4eb17e423e8a5ea885b434fde8'\n",
      "2019-07-01 16:08:55,649 - autofit.proxy - INFO - Is running? True\n",
      "INFO:autofit.proxy:Is running? True\n"
     ]
    }
   ],
   "source": [
    "proxy.start_producers()"
   ]
  },
  {
   "cell_type": "code",
   "execution_count": 6,
   "metadata": {},
   "outputs": [],
   "source": [
    "p = session.query(m.Producer).all()"
   ]
  },
  {
   "cell_type": "code",
   "execution_count": 7,
   "metadata": {},
   "outputs": [],
   "source": [
    "p[0].completed.set()\n",
    "session.commit()"
   ]
  },
  {
   "cell_type": "code",
   "execution_count": 8,
   "metadata": {},
   "outputs": [],
   "source": [
    "slot1 = m.Slot(name='implied_fwd', keys=keys, date=dt.datetime.utcnow().date(), priority=1, state=m.SlotStatesEnum.pending, dbid='1')\n",
    "slot2 = m.Slot(name='implied_vol', keys=keys, date=dt.datetime.utcnow().date(), priority=1, state=m.SlotStatesEnum.pending, dbid='1')"
   ]
  },
  {
   "cell_type": "code",
   "execution_count": 9,
   "metadata": {},
   "outputs": [
    {
     "name": "stderr",
     "output_type": "stream",
     "text": [
      "DEBUG:autofit.models:inserting slot None\n",
      "DEBUG:autofit.models:The slot is NEW\n",
      "DEBUG:autofit.proxy:broadcasting to 'trs_fwd_fitter'\n",
      "DEBUG:autofit.proxy:InputSlot <InputSlot(id_=None, pname='trs_fwd_fitter', sname='implied_fwd', sid='fdcf3dd3eae5481f9608b85e67444bf6', id1='1', ccy1='EUR', id2='None', ccy2='None', class_='equity', type_='index'', region='euro', date=2019-07-01, last_updated=None, state='None'') was created\n",
      "DEBUG:autofit.proxy:acknowledge received from 'trs_fwd_fitter' with result 'True'\n",
      "DEBUG:autofit.proxy:pending 2 acknowledgments\n",
      "DEBUG:autofit.proxy:broadcasting to 'synthetic_fwd_fitter'\n",
      "DEBUG:autofit.proxy:InputSlot <InputSlot(id_=None, pname='synthetic_fwd_fitter', sname='implied_fwd', sid='fdcf3dd3eae5481f9608b85e67444bf6', id1='1', ccy1='EUR', id2='None', ccy2='None', class_='equity', type_='index'', region='euro', date=2019-07-01, last_updated=None, state='None'') was created\n",
      "DEBUG:autofit.proxy:acknowledge received from 'synthetic_fwd_fitter' with result 'True'\n",
      "DEBUG:autofit.proxy:pending 1 acknowledgments\n",
      "DEBUG:autofit.proxy:broadcasting to 'vol_fitter'\n",
      "DEBUG:autofit.proxy:InputSlot <InputSlot(id_=None, pname='vol_fitter', sname='implied_fwd', sid='fdcf3dd3eae5481f9608b85e67444bf6', id1='1', ccy1='EUR', id2='None', ccy2='None', class_='equity', type_='index'', region='euro', date=2019-07-01, last_updated=None, state='None'') was created\n",
      "DEBUG:autofit.proxy:acknowledge received from 'vol_fitter' with result 'True'\n",
      "DEBUG:autofit.proxy:pending 0 acknowledgments\n",
      "DEBUG:autofit.models:inserting slot None\n",
      "DEBUG:autofit.models:The slot is NEW\n",
      "DEBUG:autofit.proxy:broadcasting to 'vol_fitter'\n",
      "DEBUG:autofit.proxy:InputSlot <InputSlot(id_=None, pname='vol_fitter', sname='implied_vol', sid='830ed23a1d06412896ea5333ae2003d8', id1='1', ccy1='EUR', id2='None', ccy2='None', class_='equity', type_='index'', region='euro', date=2019-07-01, last_updated=None, state='None'') was created\n",
      "DEBUG:autofit.proxy:acknowledge received from 'vol_fitter' with result 'True'\n",
      "DEBUG:autofit.proxy:pending 1 acknowledgments\n",
      "DEBUG:autofit.proxy:broadcasting to 'varswap_fitter'\n",
      "DEBUG:autofit.proxy:InputSlot <InputSlot(id_=None, pname='varswap_fitter', sname='implied_vol', sid='830ed23a1d06412896ea5333ae2003d8', id1='1', ccy1='EUR', id2='None', ccy2='None', class_='equity', type_='index'', region='euro', date=2019-07-01, last_updated=None, state='None'') was created\n",
      "DEBUG:autofit.proxy:acknowledge received from 'varswap_fitter' with result 'True'\n",
      "DEBUG:autofit.proxy:pending 0 acknowledgments\n"
     ]
    },
    {
     "data": {
      "text/plain": [
       "True"
      ]
     },
     "execution_count": 9,
     "metadata": {},
     "output_type": "execute_result"
    }
   ],
   "source": [
    "m.insert_slot(slot1, p[0])\n",
    "m.insert_slot(slot2, p[0])"
   ]
  },
  {
   "cell_type": "code",
   "execution_count": 10,
   "metadata": {},
   "outputs": [
    {
     "name": "stderr",
     "output_type": "stream",
     "text": [
      "DEBUG:autofit.proxy:joining producer synthetic_fwd_fitter\n",
      "DEBUG:autofit.proxy:producer 'synthetic_fwd_fitter' is READY\n",
      "2019-07-01 16:10:12,760 - autofit.models - INFO - Inserting producer 'synthetic_fwd_fitter'\n",
      "INFO:autofit.models:Inserting producer 'synthetic_fwd_fitter'\n",
      "DEBUG:autofit.models:Created new producer\n",
      "DEBUG:autofit.models:'ed16e6f7e64d47dea0659026b33aeb85' linked to ''fdcf3dd3eae5481f9608b85e67444bf6'\n",
      "2019-07-01 16:10:12,770 - autofit.models - INFO - ed16e6f7e64d47dea0659026b33aeb85 successfully inserted\n",
      "INFO:autofit.models:ed16e6f7e64d47dea0659026b33aeb85 successfully inserted\n",
      "DEBUG:autofit.proxy:joining producer trs_fwd_fitter\n",
      "DEBUG:autofit.proxy:producer 'trs_fwd_fitter' is INCOMPLETE\n",
      "DEBUG:autofit.proxy:joining producer varswap_fitter\n",
      "DEBUG:autofit.proxy:producer 'varswap_fitter' is INCOMPLETE\n",
      "DEBUG:autofit.proxy:joining producer vol_fitter\n",
      "DEBUG:autofit.proxy:producer 'vol_fitter' is READY\n",
      "2019-07-01 16:10:12,915 - autofit.models - INFO - Inserting producer 'vol_fitter'\n",
      "INFO:autofit.models:Inserting producer 'vol_fitter'\n",
      "DEBUG:autofit.models:Created new producer\n",
      "DEBUG:autofit.models:'adc028a0fdbb43c0b36380b6c2e707f8' linked to ''830ed23a1d06412896ea5333ae2003d8'\n",
      "DEBUG:autofit.models:'adc028a0fdbb43c0b36380b6c2e707f8' linked to ''fdcf3dd3eae5481f9608b85e67444bf6'\n",
      "2019-07-01 16:10:12,929 - autofit.models - INFO - adc028a0fdbb43c0b36380b6c2e707f8 successfully inserted\n",
      "INFO:autofit.models:adc028a0fdbb43c0b36380b6c2e707f8 successfully inserted\n",
      "2019-07-01 16:10:12,944 - autofit.proxy - INFO - Setting InputSlot.state='processed' to InputSlot.id_='4', pname='vol_fitter'\n",
      "INFO:autofit.proxy:Setting InputSlot.state='processed' to InputSlot.id_='4', pname='vol_fitter'\n",
      "2019-07-01 16:10:12,947 - autofit.proxy - INFO - Setting InputSlot.state='processed' to InputSlot.id_='5', pname='vol_fitter'\n",
      "INFO:autofit.proxy:Setting InputSlot.state='processed' to InputSlot.id_='5', pname='vol_fitter'\n"
     ]
    }
   ],
   "source": [
    "proxy.schedule_producers()"
   ]
  },
  {
   "cell_type": "code",
   "execution_count": 14,
   "metadata": {},
   "outputs": [
    {
     "name": "stderr",
     "output_type": "stream",
     "text": [
      "2019-07-01 16:11:16,632 - autofit.proxy - INFO - STARTING producer synthetic_fwd_fitter\n",
      "INFO:autofit.proxy:STARTING producer synthetic_fwd_fitter\n",
      "DEBUG:autofit.launcher:executing producer with pid 'ed16e6f7e64d47dea0659026b33aeb85'\n",
      "2019-07-01 16:11:16,640 - autofit.proxy - INFO - Is running? True\n",
      "INFO:autofit.proxy:Is running? True\n",
      "2019-07-01 16:11:16,644 - autofit.proxy - INFO - STARTING producer vol_fitter\n",
      "INFO:autofit.proxy:STARTING producer vol_fitter\n",
      "DEBUG:autofit.launcher:executing producer with pid 'adc028a0fdbb43c0b36380b6c2e707f8'\n",
      "2019-07-01 16:11:16,650 - autofit.proxy - INFO - Is running? True\n",
      "INFO:autofit.proxy:Is running? True\n"
     ]
    }
   ],
   "source": [
    "proxy.start_producers()"
   ]
  },
  {
   "cell_type": "code",
   "execution_count": 15,
   "metadata": {},
   "outputs": [],
   "source": [
    "slot3 = m.Slot(name='product_rate', keys=keys, date=dt.datetime.utcnow().date(), priority=1, state=m.SlotStatesEnum.pending, dbid='4')\n",
    "slot4 = m.Slot(name='dividends', keys=keys, date=dt.datetime.utcnow().date(), priority=1, state=m.SlotStatesEnum.pending, dbid='2')\n",
    "slot5 = m.Slot(name='volatility', keys=keys, date=dt.datetime.utcnow().date(), priority=1, state=m.SlotStatesEnum.pending, dbid='3')"
   ]
  },
  {
   "cell_type": "code",
   "execution_count": 16,
   "metadata": {},
   "outputs": [],
   "source": [
    "p = session.query(m.Producer).filter(m.Producer.running()).all()"
   ]
  },
  {
   "cell_type": "code",
   "execution_count": 17,
   "metadata": {},
   "outputs": [
    {
     "name": "stdout",
     "output_type": "stream",
     "text": [
      "synthetic_fwd_fitter\n",
      "vol_fitter\n"
     ]
    }
   ],
   "source": [
    "for x in p:\n",
    "    print x.pname\n",
    "    x.completed.set()\n",
    "session.commit()"
   ]
  },
  {
   "cell_type": "code",
   "execution_count": 19,
   "metadata": {},
   "outputs": [
    {
     "name": "stderr",
     "output_type": "stream",
     "text": [
      "DEBUG:autofit.models:inserting slot None\n",
      "DEBUG:autofit.models:The slot is NEW\n",
      "DEBUG:autofit.proxy:broadcasting to 'varswap_fitter'\n",
      "DEBUG:autofit.proxy:InputSlot <InputSlot(id_=None, pname='varswap_fitter', sname='product_rate', sid='6a00797e251a4ec4ab898b7f43a50bc6', id1='1', ccy1='EUR', id2='None', ccy2='None', class_='equity', type_='index'', region='euro', date=2019-07-01, last_updated=None, state='None'') was created\n",
      "DEBUG:autofit.proxy:acknowledge received from 'varswap_fitter' with result 'True'\n",
      "DEBUG:autofit.proxy:pending 0 acknowledgments\n"
     ]
    },
    {
     "data": {
      "text/plain": [
       "True"
      ]
     },
     "execution_count": 19,
     "metadata": {},
     "output_type": "execute_result"
    }
   ],
   "source": [
    "m.insert_slot(slot3, p[0])"
   ]
  },
  {
   "cell_type": "code",
   "execution_count": 18,
   "metadata": {},
   "outputs": [
    {
     "name": "stderr",
     "output_type": "stream",
     "text": [
      "DEBUG:autofit.models:inserting slot None\n",
      "DEBUG:autofit.models:The slot is NEW\n",
      "DEBUG:autofit.proxy:broadcasting to 'varswap_fitter'\n",
      "DEBUG:autofit.proxy:InputSlot <InputSlot(id_=None, pname='varswap_fitter', sname='dividends', sid='ad68bafa887d417aa40ee96a9f0f7ff2', id1='1', ccy1='EUR', id2='None', ccy2='None', class_='equity', type_='index'', region='euro', date=2019-07-01, last_updated=None, state='None'') was created\n",
      "DEBUG:autofit.proxy:acknowledge received from 'varswap_fitter' with result 'True'\n",
      "DEBUG:autofit.proxy:pending 0 acknowledgments\n"
     ]
    },
    {
     "data": {
      "text/plain": [
       "True"
      ]
     },
     "execution_count": 18,
     "metadata": {},
     "output_type": "execute_result"
    }
   ],
   "source": [
    "m.insert_slot(slot4, p[0])"
   ]
  },
  {
   "cell_type": "code",
   "execution_count": 20,
   "metadata": {
    "scrolled": false
   },
   "outputs": [
    {
     "name": "stderr",
     "output_type": "stream",
     "text": [
      "DEBUG:autofit.models:inserting slot None\n",
      "DEBUG:autofit.models:The slot is NEW\n"
     ]
    },
    {
     "data": {
      "text/plain": [
       "True"
      ]
     },
     "execution_count": 20,
     "metadata": {},
     "output_type": "execute_result"
    }
   ],
   "source": [
    "m.insert_slot(slot5, p[1])"
   ]
  },
  {
   "cell_type": "code",
   "execution_count": 21,
   "metadata": {},
   "outputs": [
    {
     "name": "stderr",
     "output_type": "stream",
     "text": [
      "DEBUG:autofit.proxy:joining producer synthetic_fwd_fitter\n",
      "DEBUG:autofit.proxy:producer 'synthetic_fwd_fitter' is READY\n",
      "2019-07-01 16:14:22,760 - autofit.models - INFO - Inserting producer 'synthetic_fwd_fitter'\n",
      "INFO:autofit.models:Inserting producer 'synthetic_fwd_fitter'\n",
      "DEBUG:autofit.models:One instance already running, it is halted now\n",
      "DEBUG:autofit.models:Created new producer\n",
      "DEBUG:autofit.models:'c11e574012a842dfbddb736b2ddb742a' linked to ''fdcf3dd3eae5481f9608b85e67444bf6'\n",
      "2019-07-01 16:14:22,776 - autofit.models - INFO - c11e574012a842dfbddb736b2ddb742a successfully inserted\n",
      "INFO:autofit.models:c11e574012a842dfbddb736b2ddb742a successfully inserted\n",
      "DEBUG:autofit.proxy:joining producer trs_fwd_fitter\n",
      "DEBUG:autofit.proxy:producer 'trs_fwd_fitter' is INCOMPLETE\n",
      "DEBUG:autofit.proxy:joining producer varswap_fitter\n",
      "DEBUG:autofit.proxy:producer 'varswap_fitter' is INCOMPLETE\n",
      "2019-07-01 16:14:22,871 - autofit.proxy - INFO - Setting InputSlot.state='processed' to InputSlot.id_='6', pname='varswap_fitter'\n",
      "INFO:autofit.proxy:Setting InputSlot.state='processed' to InputSlot.id_='6', pname='varswap_fitter'\n",
      "2019-07-01 16:14:22,875 - autofit.proxy - INFO - Setting InputSlot.state='processed' to InputSlot.id_='7', pname='varswap_fitter'\n",
      "INFO:autofit.proxy:Setting InputSlot.state='processed' to InputSlot.id_='7', pname='varswap_fitter'\n",
      "2019-07-01 16:14:22,878 - autofit.proxy - INFO - Setting InputSlot.state='processed' to InputSlot.id_='8', pname='varswap_fitter'\n",
      "INFO:autofit.proxy:Setting InputSlot.state='processed' to InputSlot.id_='8', pname='varswap_fitter'\n"
     ]
    }
   ],
   "source": [
    "proxy.schedule_producers()"
   ]
  },
  {
   "cell_type": "code",
   "execution_count": 22,
   "metadata": {},
   "outputs": [
    {
     "name": "stderr",
     "output_type": "stream",
     "text": [
      "2019-07-01 16:14:56,961 - autofit.proxy - INFO - STARTING producer synthetic_fwd_fitter\n",
      "INFO:autofit.proxy:STARTING producer synthetic_fwd_fitter\n",
      "DEBUG:autofit.launcher:executing producer with pid 'c11e574012a842dfbddb736b2ddb742a'\n",
      "2019-07-01 16:14:56,966 - autofit.proxy - INFO - Is running? True\n",
      "INFO:autofit.proxy:Is running? True\n"
     ]
    }
   ],
   "source": [
    "proxy.start_producers()"
   ]
  },
  {
   "cell_type": "code",
   "execution_count": 27,
   "metadata": {},
   "outputs": [],
   "source": [
    "s1 = session.query(m.Slot).all()[1]"
   ]
  },
  {
   "cell_type": "code",
   "execution_count": 28,
   "metadata": {},
   "outputs": [
    {
     "data": {
      "text/plain": [
       "[<Producer(pid='ed16e6f7e64d47dea0659026b33aeb85', pname='synthetic_fwd_fitter', keys='1|EUR|euro|equity|index', args='[{\"ccy1\": \"EUR\", \"implied_fwd\": \"fdcf3dd3eae5481f9608b85e67444bf6\", \"region\": \"euro\", \"id1\": \"1\", \"class_\": \"equity\", \"type_\": \"index\", \"pname\": \"synthetic_fwd_fitter\", \"date\": \"2019-07-01\"}]', date='2019-07-01', state='halted', last_updated='2019-07-01 15:10:12.767311')>,\n",
       " <Producer(pid='adc028a0fdbb43c0b36380b6c2e707f8', pname='vol_fitter', keys='1|EUR|euro|equity|index', args='[{\"ccy1\": \"EUR\", \"implied_fwd\": \"fdcf3dd3eae5481f9608b85e67444bf6\", \"implied_vol\": \"830ed23a1d06412896ea5333ae2003d8\", \"region\": \"euro\", \"id1\": \"1\", \"class_\": \"equity\", \"type_\": \"index\", \"pname\": \"vol_fitter\", \"date\": \"2019-07-01\"}]', date='2019-07-01', state='running', last_updated='2019-07-01 15:10:12.924885')>,\n",
       " <Producer(pid='c11e574012a842dfbddb736b2ddb742a', pname='synthetic_fwd_fitter', keys='1|EUR|euro|equity|index', args='[{\"ccy1\": \"EUR\", \"implied_fwd\": \"fdcf3dd3eae5481f9608b85e67444bf6\", \"region\": \"euro\", \"id1\": \"1\", \"class_\": \"equity\", \"type_\": \"index\", \"pname\": \"synthetic_fwd_fitter\", \"date\": \"2019-07-01\"}]', date='2019-07-01', state='running', last_updated='2019-07-01 15:14:22.773016')>]"
      ]
     },
     "execution_count": 28,
     "metadata": {},
     "output_type": "execute_result"
    }
   ],
   "source": [
    "s1.listeners"
   ]
  },
  {
   "cell_type": "code",
   "execution_count": null,
   "metadata": {},
   "outputs": [],
   "source": []
  }
 ],
 "metadata": {
  "kernelspec": {
   "display_name": "Python 2",
   "language": "python",
   "name": "python2"
  },
  "language_info": {
   "codemirror_mode": {
    "name": "ipython",
    "version": 2
   },
   "file_extension": ".py",
   "mimetype": "text/x-python",
   "name": "python",
   "nbconvert_exporter": "python",
   "pygments_lexer": "ipython2",
   "version": "2.7.15+"
  }
 },
 "nbformat": 4,
 "nbformat_minor": 2
}
