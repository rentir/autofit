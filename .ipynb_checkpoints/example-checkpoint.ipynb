{
 "cells": [
  {
   "cell_type": "code",
   "execution_count": 1,
   "metadata": {},
   "outputs": [
    {
     "name": "stderr",
     "output_type": "stream",
     "text": [
      "2019-06-12 22:35:40,893 - autofit.utils - INFO - importing /home/renzo/python/autofit/slots/__init__.pyc from autofit.slots\n",
      "2019-06-12 22:35:40,894 - autofit.utils - DEBUG - importing module parameters\n",
      "2019-06-12 22:35:40,894 - autofit.network - DEBUG - linking slot 'dividends'\n",
      "2019-06-12 22:35:40,894 - autofit.network - DEBUG - linking slot 'product_rate'\n",
      "2019-06-12 22:35:40,896 - autofit.utils - DEBUG - importing module report\n",
      "2019-06-12 22:35:40,897 - autofit.network - DEBUG - linking slot 'implied_fwd'\n",
      "2019-06-12 22:35:40,897 - autofit.network - DEBUG - linking slot 'implied_vol'\n",
      "2019-06-12 22:35:40,897 - autofit.utils - DEBUG - importing module market_data\n",
      "2019-06-12 22:35:40,897 - autofit.network - DEBUG - linking slot 'european.totem'\n",
      "2019-06-12 22:35:40,897 - autofit.network - DEBUG - linking slot 'varswap.totem'\n",
      "2019-06-12 22:35:40,897 - autofit.network - DEBUG - linking slot 'volswap.totem'\n",
      "2019-06-12 22:35:40,898 - autofit.network - DEBUG - linking slot 'trs.totem'\n",
      "2019-06-12 22:35:40,899 - autofit.utils - INFO - importing /home/renzo/python/autofit/producers/__init__.pyc from autofit.producers\n",
      "2019-06-12 22:35:40,899 - autofit.utils - DEBUG - importing module parameters\n",
      "2019-06-12 22:35:40,899 - autofit.network - DEBUG - linking producer 'synthetic_fwd_fitter'\n",
      "2019-06-12 22:35:40,900 - autofit.network - DEBUG - linking producer 'trs_fitter'\n",
      "2019-06-12 22:35:40,900 - autofit.network - DEBUG - linking producer 'trs_fwd_fitter'\n",
      "2019-06-12 22:35:40,901 - autofit.utils - DEBUG - importing module report\n",
      "2019-06-12 22:35:40,901 - autofit.network - DEBUG - linking producer 'black_scholes_calculator'\n",
      "2019-06-12 22:35:40,901 - autofit.utils - DEBUG - importing module market_data\n",
      "2019-06-12 22:35:40,901 - autofit.network - DEBUG - linking producer 'totem.daily'\n"
     ]
    }
   ],
   "source": [
    "import os\n",
    "import sys\n",
    "import datetime as dt\n",
    "from sqlalchemy.orm import object_session\n",
    "import autofit.models as m\n",
    "from config import configuration\n",
    "import autofit.utils"
   ]
  },
  {
   "cell_type": "code",
   "execution_count": 2,
   "metadata": {},
   "outputs": [],
   "source": [
    "os.remove(os.path.join('db', 'mrb.db'))\n",
    "m.create_all(configuration['production'])"
   ]
  },
  {
   "cell_type": "code",
   "execution_count": 3,
   "metadata": {},
   "outputs": [],
   "source": [
    "session = m.get_session()\n",
    "s1 = m.Slot(name='european.totem', keys='k1|k2', date=dt.datetime(2019, 6, 9).date(),\n",
    "           priority=1, path='.', state=m.SlotStatesEnum.current)\n",
    "p1 = m.Producer(state=m.ProducerStatesEnum.completed)"
   ]
  },
  {
   "cell_type": "code",
   "execution_count": 4,
   "metadata": {},
   "outputs": [],
   "source": [
    "s1.producers.append(p1)"
   ]
  },
  {
   "cell_type": "code",
   "execution_count": 5,
   "metadata": {},
   "outputs": [],
   "source": [
    "s2 = m.Slot(name='implied_volatilty', keys='k1|k2', date=dt.datetime(2019, 6, 9).date(),\n",
    "           priority=1, path='.', state=m.SlotStatesEnum.current)"
   ]
  },
  {
   "cell_type": "code",
   "execution_count": 6,
   "metadata": {},
   "outputs": [],
   "source": [
    "p1.slots.append(s2)"
   ]
  },
  {
   "cell_type": "code",
   "execution_count": 7,
   "metadata": {},
   "outputs": [],
   "source": [
    "s1n = m.Slot(name='european.totem', keys='k1|k2', date=dt.datetime(2019, 6, 9).date(),\n",
    "           priority=2, path='.', state=m.SlotStatesEnum.void)"
   ]
  },
  {
   "cell_type": "code",
   "execution_count": 8,
   "metadata": {},
   "outputs": [],
   "source": [
    "session.add(s1)\n",
    "session.add(p1)\n",
    "# session.add(s2)"
   ]
  },
  {
   "cell_type": "code",
   "execution_count": 9,
   "metadata": {},
   "outputs": [],
   "source": [
    "session.commit()"
   ]
  },
  {
   "cell_type": "code",
   "execution_count": 10,
   "metadata": {},
   "outputs": [
    {
     "name": "stderr",
     "output_type": "stream",
     "text": [
      "2019-06-12 22:36:07,458 - autofit.models - DEBUG - inserting new slot <Slot(sid=None, name='european.totem', keys='k1|k2', priority=2, state='broadcasting', path='.', producers='[]')>\n",
      "2019-06-12 22:36:07,460 - autofit.models - INFO - slot <Slot(sid=None, name='european.totem', keys='k1|k2', priority=2, state='broadcasting', path='.', producers='[]')> is broadcasting\n",
      "2019-06-12 22:36:07,462 - autofit.proxy - DEBUG - broadcasting to 'black_scholes_calculator'\n",
      "2019-06-12 22:36:07,470 - autofit.proxy - DEBUG - acknowledge received from 'black_scholes_calculator' with result 'True'\n",
      "2019-06-12 22:36:07,472 - autofit.proxy - DEBUG - pending 0 acknowledgments\n",
      "2019-06-12 22:36:07,474 - autofit.models - INFO - slot <Slot(sid=3, name='european.totem', keys='k1|k2', priority=2, state='broadcasting', path='.', producers='[]')> is pending\n",
      "2019-06-12 22:36:07,476 - autofit.proxy - DEBUG - all good so far...\n"
     ]
    },
    {
     "ename": "InvalidSourceStateError",
     "evalue": "Unable to switch from pending using method pending",
     "output_type": "error",
     "traceback": [
      "\u001b[0;31m---------------------------------------------------------------------------\u001b[0m",
      "\u001b[0;31mInvalidSourceStateError\u001b[0m                   Traceback (most recent call last)",
      "\u001b[0;32m<ipython-input-10-e4153e135d6c>\u001b[0m in \u001b[0;36m<module>\u001b[0;34m()\u001b[0m\n\u001b[0;32m----> 1\u001b[0;31m \u001b[0mm\u001b[0m\u001b[0;34m.\u001b[0m\u001b[0minsert_slot\u001b[0m\u001b[0;34m(\u001b[0m\u001b[0ms1n\u001b[0m\u001b[0;34m)\u001b[0m\u001b[0;34m\u001b[0m\u001b[0m\n\u001b[0m",
      "\u001b[0;32m/home/renzo/python/autofit/models.py\u001b[0m in \u001b[0;36minsert_slot\u001b[0;34m(slot)\u001b[0m\n\u001b[1;32m    176\u001b[0m     \u001b[0mslot\u001b[0m\u001b[0;34m.\u001b[0m\u001b[0mbroadcasting\u001b[0m\u001b[0;34m.\u001b[0m\u001b[0mset\u001b[0m\u001b[0;34m(\u001b[0m\u001b[0;34m)\u001b[0m\u001b[0;34m\u001b[0m\u001b[0m\n\u001b[1;32m    177\u001b[0m     \u001b[0mbroadcast\u001b[0m\u001b[0;34m(\u001b[0m\u001b[0mslot\u001b[0m\u001b[0;34m)\u001b[0m\u001b[0;34m\u001b[0m\u001b[0m\n\u001b[0;32m--> 178\u001b[0;31m     \u001b[0mslot\u001b[0m\u001b[0;34m.\u001b[0m\u001b[0mpending\u001b[0m\u001b[0;34m.\u001b[0m\u001b[0mset\u001b[0m\u001b[0;34m(\u001b[0m\u001b[0;34m)\u001b[0m\u001b[0;34m\u001b[0m\u001b[0m\n\u001b[0m\u001b[1;32m    179\u001b[0m     \u001b[0msession\u001b[0m\u001b[0;34m.\u001b[0m\u001b[0mcommit\u001b[0m\u001b[0;34m(\u001b[0m\u001b[0;34m)\u001b[0m\u001b[0;34m\u001b[0m\u001b[0m\n\u001b[1;32m    180\u001b[0m     \u001b[0;32mreturn\u001b[0m \u001b[0mTrue\u001b[0m\u001b[0;34m\u001b[0m\u001b[0m\n",
      "\u001b[0;32m/home/renzo/.local/lib/python2.7/site-packages/sqlalchemy_fsm/transition.pyc\u001b[0m in \u001b[0;36mset\u001b[0;34m(self, *args, **kwargs)\u001b[0m\n\u001b[1;32m     80\u001b[0m             raise exc.InvalidSourceStateError(\n\u001b[1;32m     81\u001b[0m                 'Unable to switch from {} using method {}'.format(\n\u001b[0;32m---> 82\u001b[0;31m                     \u001b[0mbound_meta\u001b[0m\u001b[0;34m.\u001b[0m\u001b[0mcurrent_state\u001b[0m\u001b[0;34m,\u001b[0m \u001b[0mfunc\u001b[0m\u001b[0;34m.\u001b[0m\u001b[0m__name__\u001b[0m\u001b[0;34m\u001b[0m\u001b[0m\n\u001b[0m\u001b[1;32m     83\u001b[0m                 )\n\u001b[1;32m     84\u001b[0m             )\n",
      "\u001b[0;31mInvalidSourceStateError\u001b[0m: Unable to switch from pending using method pending"
     ]
    }
   ],
   "source": [
    "m.insert_slot(s1n)"
   ]
  },
  {
   "cell_type": "code",
   "execution_count": null,
   "metadata": {},
   "outputs": [],
   "source": [
    "session.query(m.Producer).all()"
   ]
  },
  {
   "cell_type": "code",
   "execution_count": null,
   "metadata": {},
   "outputs": [],
   "source": [
    "session.query(m.Slot).all()"
   ]
  },
  {
   "cell_type": "code",
   "execution_count": null,
   "metadata": {},
   "outputs": [],
   "source": [
    "s1n.pending()"
   ]
  },
  {
   "cell_type": "code",
   "execution_count": null,
   "metadata": {},
   "outputs": [],
   "source": []
  },
  {
   "cell_type": "code",
   "execution_count": null,
   "metadata": {},
   "outputs": [],
   "source": [
    "s.broadcasting.set()"
   ]
  },
  {
   "cell_type": "code",
   "execution_count": null,
   "metadata": {},
   "outputs": [],
   "source": [
    "s.state"
   ]
  },
  {
   "cell_type": "code",
   "execution_count": null,
   "metadata": {},
   "outputs": [],
   "source": [
    "s.broadcast()"
   ]
  },
  {
   "cell_type": "code",
   "execution_count": null,
   "metadata": {},
   "outputs": [],
   "source": [
    "s = m.Slot(name='european.totem', keys='k1|k2', date=dt.datetime(2019, 6, 9).date(),\n",
    "           priority=1, path='.', state='broadcasting')\n",
    "session.add(s)"
   ]
  },
  {
   "cell_type": "code",
   "execution_count": null,
   "metadata": {},
   "outputs": [],
   "source": [
    "object_session(s)"
   ]
  },
  {
   "cell_type": "code",
   "execution_count": null,
   "metadata": {},
   "outputs": [],
   "source": [
    "# # Create underlyings\n",
    "# u1 = models.Underlying(uname='1', currency='EUR', ric='.STOXX50E', region='euro', class_='equity', type_='Equity Index')\n",
    "# u2 = models.Underlying(uname='2', currency='USD', ric='.SPX', region='us', class_='equity', type_='Equity Index')\n",
    "# u3 = models.Underlying(uname='3', currency='JPY', ric='.N225', region='apac', class_='equity', type_='Equity Index')\n",
    "# session.add_all([u1, u2, u3])\n",
    "# session.commit()\n",
    "# print \"*** Underlying ***\"\n",
    "# print '\\n'.join([str(u) for u in session.query(models.Underlying).all()])\n",
    "# # Create slots\n",
    "# s1 = models.SlotClass(name='totem.vanilla.prices', key='ric')\n",
    "# s2 = models.SlotClass(name='totem.vanilla.forward', key='ric')\n",
    "# s3 = models.SlotClass(name='totem.vanilla.impliedvol', key='ric')\n",
    "# s4 = models.SlotClass(name='totem.vanilla.dividends', key='ric')\n",
    "# s5 = models.SlotClass(name='totem.vanilla.product_rate', key='ric')\n",
    "# s6 = models.SlotClass(name='totem.varswap.price', key='ric')\n",
    "# s7 = models.SlotClass(name='totem.varswap.varswapvolbasis', key='ric')\n",
    "# s8 = models.SlotClass(name='totem.proxy.varswapvolbasis', key='type_|region')\n",
    "# session.add_all([s1, s2, s3, s4, s5, s6, s7, s8])\n",
    "# session.commit()\n",
    "# print \"*** Slots ***\"\n",
    "# print '\\n'.join([str(u) for u in session.query(models.SlotClass).all()])"
   ]
  }
 ],
 "metadata": {
  "kernelspec": {
   "display_name": "Python 2",
   "language": "python",
   "name": "python2"
  },
  "language_info": {
   "codemirror_mode": {
    "name": "ipython",
    "version": 2
   },
   "file_extension": ".py",
   "mimetype": "text/x-python",
   "name": "python",
   "nbconvert_exporter": "python",
   "pygments_lexer": "ipython2",
   "version": "2.7.15rc1"
  }
 },
 "nbformat": 4,
 "nbformat_minor": 2
}
