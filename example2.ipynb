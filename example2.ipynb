{
 "cells": [
  {
   "cell_type": "code",
   "execution_count": 1,
   "metadata": {},
   "outputs": [
    {
     "name": "stderr",
     "output_type": "stream",
     "text": [
      "2019-07-18 22:05:55,496 - autofit.utils - INFO - importing /home/renzo/python/autofit/slots/__init__.pyc from autofit.slots\n",
      "2019-07-18 22:05:55,501 - autofit.utils - INFO - importing /home/renzo/python/autofit/producers/__init__.pyc from autofit.producers\n",
      "2019-07-18 22:05:55,504 - autofit - INFO - Network was successfully linked\n"
     ]
    }
   ],
   "source": [
    "import requests\n",
    "import os\n",
    "if os.path.isfile('file.log'):\n",
    "    os.remove('file.log')\n",
    "import datetime\n",
    "import autofit.models as m\n",
    "from autofit.config import configuration"
   ]
  },
  {
   "cell_type": "code",
   "execution_count": 2,
   "metadata": {},
   "outputs": [],
   "source": [
    "uri = 'http://localhost:5005/api/mrpr/results'\n",
    "dbpath = os.path.join('db', 'mrprdev.db')\n",
    "if os.path.isfile(dbpath):\n",
    "    os.remove(dbpath)\n",
    "m.create_all(configuration['development'])"
   ]
  },
  {
   "cell_type": "code",
   "execution_count": 3,
   "metadata": {},
   "outputs": [],
   "source": [
    "slots = []\n",
    "for i in range(1):\n",
    "    keys = '%s|EUR|euro|equity|index' % (i+1)\n",
    "    slots.append({'sname': 'european_totem', 'keys': keys, 'dbid': 'db_%s' % (i+1)})"
   ]
  },
  {
   "cell_type": "code",
   "execution_count": 4,
   "metadata": {},
   "outputs": [],
   "source": [
    "p1 = {'pname': 'totem_daily', 'pid': '', 'date': '2019-06-24', 'state': 'ok', 'priority': 1, 'slots': slots}"
   ]
  },
  {
   "cell_type": "code",
   "execution_count": 5,
   "metadata": {},
   "outputs": [
    {
     "data": {
      "text/plain": [
       "<Response [201]>"
      ]
     },
     "execution_count": 5,
     "metadata": {},
     "output_type": "execute_result"
    }
   ],
   "source": [
    "requests.post(uri, json=[p1])"
   ]
  },
  {
   "cell_type": "code",
   "execution_count": null,
   "metadata": {},
   "outputs": [],
   "source": []
  },
  {
   "cell_type": "code",
   "execution_count": null,
   "metadata": {},
   "outputs": [],
   "source": [
    "slots = []\n",
    "for i in range(4):\n",
    "    keys = '%s|EUR|euro|equity|index' % (i+1)\n",
    "    slots.append({'sname': 'varswap_totem', 'keys': keys, 'dbid': 'db_%s' % (i+1)})"
   ]
  },
  {
   "cell_type": "code",
   "execution_count": null,
   "metadata": {},
   "outputs": [],
   "source": [
    "p2 = {'pname': 'totem_daily', 'pid': '', 'date': '2019-06-24', 'state': 'ok', 'priority': 1, 'slots': slots}"
   ]
  },
  {
   "cell_type": "code",
   "execution_count": null,
   "metadata": {},
   "outputs": [],
   "source": [
    "requests.post(uri, json=p2)"
   ]
  },
  {
   "cell_type": "code",
   "execution_count": null,
   "metadata": {},
   "outputs": [],
   "source": []
  }
 ],
 "metadata": {
  "kernelspec": {
   "display_name": "Python 2",
   "language": "python",
   "name": "python2"
  },
  "language_info": {
   "codemirror_mode": {
    "name": "ipython",
    "version": 2
   },
   "file_extension": ".py",
   "mimetype": "text/x-python",
   "name": "python",
   "nbconvert_exporter": "python",
   "pygments_lexer": "ipython2",
   "version": "2.7.15+"
  }
 },
 "nbformat": 4,
 "nbformat_minor": 2
}
